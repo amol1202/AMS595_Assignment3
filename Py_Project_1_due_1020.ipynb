{
  "cells": [
    {
      "cell_type": "markdown",
      "metadata": {
        "id": "xq__bChjD04e"
      },
      "source": [
        "# Python Assignment 1"
      ]
    },
    {
      "cell_type": "markdown",
      "metadata": {
        "id": "y7j2V0UDMYLG"
      },
      "source": [
        "⏱⏱⏱**Due: 10/20/2024 11:59:59 PM** ⏱⏱⏱\n",
        "\n",
        "Submit this notebook file and upload it to your git repo. Include a link to your git repo while submitting this file to Brightspace.\n",
        "\n",
        "You are not allowed to use chatgpt or any LLM in this assignment.\n",
        "Cooperation is allowed and encouraged; however, you must write up and submit your own work. If you cooperate with others, you must list their names here."
      ]
    },
    {
      "cell_type": "markdown",
      "metadata": {
        "id": "SUS30Ew9D04n"
      },
      "source": [
        "Total points: 100 (equivalent to 20 points after conversion)"
      ]
    },
    {
      "cell_type": "markdown",
      "metadata": {
        "id": "b_bgT3b2GYTB"
      },
      "source": [
        "## 0. Data Types, Structures, Indexing, and Slicing"
      ]
    },
    {
      "cell_type": "markdown",
      "metadata": {
        "id": "6yI1Jt57IwV2"
      },
      "source": [
        "Read the lecutre note as well as [this page](https://www.geeksforgeeks.org/mutable-vs-immutable-objects-in-python/) and [this page](https://www.geeksforgeeks.org/difference-between-shallow-and-deep-copy-of-a-class/). Complete the following questions.\n",
        "\n",
        "(5 points) Give some examples (at least 2) of mutable objects in Python.\n",
        "\n",
        "***Answer:***\n",
        "1. **Lists**  \n",
        "   A list is a mutable, ordered sequence of elements. <u>Example</u>: A shopping cart at a grocery store. This cart starts with a few items, and as we walk through the aisles, we can add or remove items as needed.\n",
        "   \n",
        "   Initially, the cart has: `[\"apples\", \"bananas\", \"bread\"]`\n",
        "   - We decide to add some more items: `cart.append(\"milk\")`\n",
        "   - Then, we realize we don’t need bananas anymore, so we replace them: `cart[1] = \"oranges\"`\n",
        "   - After some more shopping, the cart now looks like: `[\"apples\", \"oranges\", \"bread\", \"milk\"]`\n",
        "\n",
        "   This is how a Python list behaves. In a list, we can add, modify, or remove elements, just like managing items in a shopping cart.\n",
        "\n",
        "2. **Dictionaries**  \n",
        "   A dictionary is a mutable data structure that stores data in key-value pairs. It's an efficient way to organize and access data.\n",
        "   \n",
        "   <u>Example</u>: An employee directory in a workplace, where each employee has an assigned phone number. The company might hire new people or some employees might change their phone numbers.\n",
        "   \n",
        "   Initially, there is a small directory: `{\"Alice\": \"555-1234\", \"Bob\": \"555-5678\"}`\n",
        "   - A new employee, Carol, joins, so her contact is added: `directory[\"Carol\"] = \"555-9999\"`\n",
        "   - Then, Alice gets a new number, so we update it: `directory[\"Alice\"] = \"555-4321\"`\n",
        "   - The new directory looks like: `{\"Alice\": \"555-4321\", \"Bob\": \"555-5678\", \"Carol\": \"555-9999\"}`\n",
        "\n",
        "   This is how a Python dictionary works. We can add new key-value pairs (new employees), update existing ones (phone number changes), or remove them when necessary.\n",
        "\n",
        "---\n",
        "\n",
        "\n",
        "\n",
        "(5 points) Give some examples (at least 2) of immutable objects in Python.\n",
        "\n",
        "***Answer:***\n",
        "In Python, immutable objects are objects whose state cannot be changed after they are created.\n",
        "\n",
        "**Tuples**  \n",
        "Once a tuple is created, we cannot modify, add, or remove items from it.\n",
        "\n",
        "`my_tuple = (1, 2, 3)`  \n",
        "`# Trying to modify it would raise an error`  \n",
        "`# my_tuple[0] = 10  # This will raise a TypeError`\n",
        "\n",
        "<br>\n",
        "\n",
        "<u>I ran the code in the interpreter and got the following error</u>:  \n",
        "![Error Message](insert.png)\n",
        "\n",
        "**Strings**  \n",
        "Strings are also immutable in Python, meaning we cannot change a string's characters once it is created.\n",
        "\n",
        "`my_string = \"hello\"`  \n",
        "`# Trying to change a character will raise an error`  \n",
        "`# my_string[0] = 'H'  # This will raise a TypeError`\n",
        "\n",
        "<br>\n",
        "\n",
        "<u>Again, got a similar error message as before</u>:  \n",
        "![Error Message](insert1.png)\n",
        "\n",
        "---\n",
        "\n",
        "\n",
        "\n",
        "(10 points) State the differences between assignment, shallow copy, and deep copy. Any reasonable answer will get full credit.\n",
        "\n",
        "***Answer:***\n",
        "\n",
        "**Assignment**\n",
        "\n",
        "- When we use the assignment operator (`=`), we are not creating a new object. Instead, we are just creating a new reference (or alias) to the same object in memory.\n",
        "- **Effect**: Any changes made to the object via one reference will affect the object seen by all other references.\n",
        "\n",
        "**Shallow Copy**\n",
        "\n",
        "- Shallow copy is quicker, but it handles pointers and references. Instead of creating a new copy of the data the pointer points to, it simply copies the pointer's value. Both the original and the copy will have pointers that reference the same underlying data.\n",
        "- **Effect**: Changes to mutable elements inside the copied object will affect the original object, but changes to the outer structure will not.\n",
        "\n",
        "**Deep Copy**\n",
        "\n",
        "- Deep copy creates a true clone of the underlying data. The copied data is entirely separate from the original, and no part of it is shared between the original and the copy.\n",
        "- **Effect**: Changes made to any part of the copied object do not affect the original object, and vice versa.\n",
        "\n",
        "<br>\n",
        "\n",
        "| **Aspect**                                                       | **Assignment**                                                | **Shallow Copy**                                                | **Deep Copy**                                                  |\n",
        "|------------------------------------------------------------------|---------------------------------------------------------------|-----------------------------------------------------------------|----------------------------------------------------------------|\n",
        "| **Memory**                                                       | No new memory allocation, just a reference to the same object. | Copies the references of objects to the original memory address. | Copies the values and creates independent copies of the objects.|\n",
        "| **Effect on Changes**                                            | Changes in one affect all references.                         | Changes to copied object affect the original.                   | Changes to copied object do not affect the original.            |\n",
        "| **Structure**                                                    | Points to the same object.                                    | Copies the outer structure, references inner objects.           | Recursively copies the entire object structure.                 |\n",
        "| **Performance**                                                  | Fastest, no copying involved.                                 | Faster than deep copy.                                          | Slower due to full copy of all data.                            |\n",
        "\n",
        "\n",
        "---\n",
        "\n",
        "\n",
        "\n"
      ]
    },
    {
      "cell_type": "markdown",
      "metadata": {
        "id": "OA8DxcrrGqZD"
      },
      "source": [
        "(10 points) Using string methods find() and rfind(), find the index of the first digit (i.e. 0) and the index of the last digit (5) in the string below. Then, using string slicing, extract the number (i.e. 0.595595) from this string and convert the extracted value to a floating point number. Print out this float to the console."
      ]
    },
    {
      "cell_type": "code",
      "execution_count": 1,
      "metadata": {
        "id": "AUuFXXWqG4D3"
      },
      "outputs": [
        {
          "name": "stdout",
          "output_type": "stream",
          "text": [
            "0.595595\n"
          ]
        }
      ],
      "source": [
        "text = \"F-DGFDDSFGFD-CFDSHdstgfdfe: tfsd  aaa bdsf 0.595595 fdsgfdbc\";\n",
        "\n",
        "# Finding index of the first digit (0)\n",
        "first_digit_index = text.find('0')\n",
        "\n",
        "# Finding index of the last digit (5)\n",
        "last_digit_index = text.rfind('5')\n",
        "\n",
        "# Extracting the number using string slicing\n",
        "extracted_number = text[first_digit_index:last_digit_index + 1]\n",
        "\n",
        "# Typecasting\n",
        "float_value = float(extracted_number)\n",
        "\n",
        "# Answer\n",
        "print(float_value)"
      ]
    },
    {
      "cell_type": "markdown",
      "metadata": {
        "id": "cnCljYgpD04p"
      },
      "source": [
        "## 1. Conditional Statements\n",
        "\n",
        "(10 points)\n",
        "Translate the following MATLAB code into Python using `if-elif-else`.\n",
        "```\n",
        "n = input('Enter a number: ');\n",
        "\n",
        "switch n\n",
        "    case -1\n",
        "        disp('negative one')\n",
        "    case 0\n",
        "        disp('zero')\n",
        "    case 1\n",
        "        disp('positive one')\n",
        "    otherwise\n",
        "        disp('other value')\n",
        "end\n",
        "```"
      ]
    },
    {
      "cell_type": "code",
      "execution_count": 2,
      "metadata": {
        "collapsed": true,
        "id": "9d8vl5zjD04q"
      },
      "outputs": [
        {
          "name": "stdout",
          "output_type": "stream",
          "text": [
            "positive one\n"
          ]
        }
      ],
      "source": [
        "n = int(input('Enter a number: '))\n",
        "\n",
        "if n == -1:\n",
        "    print('negative one')\n",
        "elif n == 0:\n",
        "    print('zero')\n",
        "elif n == 1:\n",
        "    print('positive one')\n",
        "else:\n",
        "    print('other value')"
      ]
    },
    {
      "cell_type": "markdown",
      "metadata": {
        "id": "sW9XiUPpD04s"
      },
      "source": [
        "## 2. While Loops\n",
        "\n",
        "(10 points) Write a Python program that calculates the factorial of a given number (you can assume an positive integer) using a while loop. Display the result to the console."
      ]
    },
    {
      "cell_type": "code",
      "execution_count": 3,
      "metadata": {
        "colab": {
          "base_uri": "https://localhost:8080/"
        },
        "collapsed": true,
        "id": "CRCERx8uD04t",
        "outputId": "1870b9d1-fe04-4ae7-e5ec-08ce640ce72e"
      },
      "outputs": [
        {
          "name": "stdout",
          "output_type": "stream",
          "text": [
            "The factorial of 13 is 6227020800\n"
          ]
        }
      ],
      "source": [
        "# Get user input\n",
        "n = int(input(\"Enter a positive integer: \"))\n",
        "\n",
        "# Initializing variables\n",
        "factorial = 1\n",
        "i = 1\n",
        "\n",
        "# Calculate factorial using while loop\n",
        "while i <= n:\n",
        "    factorial *= i\n",
        "    i += 1\n",
        "\n",
        "# Answer\n",
        "print(f\"The factorial of {n} is {factorial}\")\n",
        "\n",
        "\n",
        "\n",
        "# test cases\n",
        "# n = 17, Output: 355687428096000\n",
        "# n = 13, Output: 6227020800"
      ]
    },
    {
      "cell_type": "markdown",
      "metadata": {
        "id": "ZQ5SVMq6D04w"
      },
      "source": [
        "## 3. Functions\n",
        "\n",
        "(10 points) Write a function that determines if a number is prime."
      ]
    },
    {
      "cell_type": "code",
      "execution_count": 6,
      "metadata": {
        "colab": {
          "base_uri": "https://localhost:8080/"
        },
        "id": "6rGP5G3_D04x",
        "outputId": "00df2d17-b697-4146-968f-be4fa7cc3ba3"
      },
      "outputs": [
        {
          "name": "stdout",
          "output_type": "stream",
          "text": [
            "True\n",
            "False\n",
            "True\n"
          ]
        }
      ],
      "source": [
        "def is_prime(n):\n",
        "    if n < 2:\n",
        "        return False\n",
        "    \n",
        "# Checking for factors-> I check only till sqrt(n), since that is sufficient =>(If x is a factor n/x will also be a factor)\n",
        "    for i in range(2, int(n**0.5) + 1):\n",
        "        if n % i == 0:\n",
        "            return False\n",
        "    return True\n",
        "\n",
        "# test cases\n",
        "print(is_prime(2))      # Output: True\n",
        "print(is_prime(10))     # Output: False\n",
        "print(is_prime(17))     # Output: True"
      ]
    },
    {
      "cell_type": "markdown",
      "metadata": {
        "id": "Z6qg-fpQD04u"
      },
      "source": [
        "## 4. List Comprehension\n",
        "\n",
        "(10 points) Write a Python function called `prime_factors` that takes a relatively small integer as input and returns a list of its distinct prime factors. The function should use list comprehension to generate the list of distinct prime factors. You may use the function is_prime() defined in Q3.\n"
      ]
    },
    {
      "cell_type": "code",
      "execution_count": 8,
      "metadata": {
        "colab": {
          "base_uri": "https://localhost:8080/"
        },
        "collapsed": true,
        "id": "2hSCjYlOD04v",
        "outputId": "1024d2e2-7d24-4e65-9529-e5a82d2a3211"
      },
      "outputs": [
        {
          "name": "stdout",
          "output_type": "stream",
          "text": [
            "[2, 3, 5]\n",
            "[2, 7]\n",
            "[2, 3, 11]\n",
            "[2, 29]\n"
          ]
        }
      ],
      "source": [
        "def prime_factors(n):\n",
        "    # Use a single list comprehension to find distinct prime factors\n",
        "    return [i for i in range(2, n + 1) if n % i == 0 and is_prime(i)]\n",
        "\n",
        "# test cases\n",
        "print(prime_factors(30))  # Output: [2, 3, 5]\n",
        "print(prime_factors(56))  # Output: [2, 7]\n",
        "print(prime_factors(198))  # Output: [2, 3, 11]\n",
        "print(prime_factors(464))  # Output: [2, 29]"
      ]
    },
    {
      "cell_type": "markdown",
      "metadata": {
        "id": "dw4kZZCiD040"
      },
      "source": [
        "## 5. Recursive Functions\n",
        "(25 points) Write a function that uses recursion to generate the $n$th row of the Pascal's triangle.\n",
        "```\n",
        "              1\n",
        "           1     1\n",
        "        1     2     1\n",
        "      1    3     3     1\n",
        "   1    4     6     4    1\n",
        "1     5    10    10    5    1\n",
        "...\n",
        "...\n",
        "...\n",
        "```"
      ]
    },
    {
      "cell_type": "code",
      "execution_count": 15,
      "metadata": {
        "colab": {
          "base_uri": "https://localhost:8080/"
        },
        "id": "V8QFB_gKD040",
        "outputId": "4946dc49-2061-4057-e65d-9f48af44dac9"
      },
      "outputs": [
        {
          "name": "stdout",
          "output_type": "stream",
          "text": [
            "[1, 5, 10, 10, 5, 1]\n"
          ]
        }
      ],
      "source": [
        "def pascal(n):\n",
        "    # Base case: the first row is [1]\n",
        "    if n == 1:\n",
        "        return [1]\n",
        "    \n",
        "    # I get the previous row using recursion\n",
        "    previous_row = pascal(n - 1)\n",
        "    \n",
        "    current_row = [1]  # Every new row starts with 1\n",
        "    \n",
        "    for i in range(1, len(previous_row)):\n",
        "        # Each element is the sum of two adjacent elements from the previous row\n",
        "        current_row.append(previous_row[i - 1] + previous_row[i])\n",
        "\n",
        "    current_row.append(1)  # Every new row ends with 1\n",
        "    \n",
        "    return current_row\n",
        "\n",
        "# test case\n",
        "print(pascal(6))  # output [1, 5, 10, 10, 5, 1]"
      ]
    },
    {
      "cell_type": "markdown",
      "metadata": {
        "id": "eZytgm0qD041"
      },
      "source": [
        "Rewrite the above function using only `while` or `for` loops instead of recursion."
      ]
    },
    {
      "cell_type": "code",
      "execution_count": 5,
      "metadata": {
        "colab": {
          "base_uri": "https://localhost:8080/"
        },
        "collapsed": true,
        "id": "UZ8f-akaD041",
        "outputId": "68ec5672-a40f-493f-e725-68b7471e76bc"
      },
      "outputs": [
        {
          "name": "stdout",
          "output_type": "stream",
          "text": [
            "[1, 6, 15, 20, 15, 6, 1]\n"
          ]
        }
      ],
      "source": [
        "def pascal_by_loops(n):\n",
        "    row = [1]  # I start with the first element\n",
        "    current_length = 1  # Storing the number of elements in the row\n",
        "\n",
        "    while current_length <= n:\n",
        "        # I write every row in reverse order to make it work like recursion.\n",
        "\n",
        "        row.append(1)  # Since, last element of every row is 1\n",
        "\n",
        "        i = current_length - 1  # Updating from the second-last element\n",
        "\n",
        "        while i > 0:\n",
        "            row[i] = row[i] + row[i-1]\n",
        "            i -= 1\n",
        "\n",
        "        current_length += 1\n",
        "    \n",
        "    return row\n",
        "\n",
        "print(pascal_by_loops(6))"
      ]
    },
    {
      "cell_type": "markdown",
      "metadata": {
        "id": "HvHD6QHzVo9I"
      },
      "source": [
        "\n",
        "\n",
        "---\n",
        "\n",
        "\n",
        "（5 points) good coding practice and properly submitting your work to GitHub."
      ]
    }
  ],
  "metadata": {
    "anaconda-cloud": {},
    "colab": {
      "provenance": []
    },
    "kernelspec": {
      "display_name": "Python 3",
      "language": "python",
      "name": "python3"
    },
    "language_info": {
      "codemirror_mode": {
        "name": "ipython",
        "version": 3
      },
      "file_extension": ".py",
      "mimetype": "text/x-python",
      "name": "python",
      "nbconvert_exporter": "python",
      "pygments_lexer": "ipython3",
      "version": "3.12.5"
    }
  },
  "nbformat": 4,
  "nbformat_minor": 0
}
